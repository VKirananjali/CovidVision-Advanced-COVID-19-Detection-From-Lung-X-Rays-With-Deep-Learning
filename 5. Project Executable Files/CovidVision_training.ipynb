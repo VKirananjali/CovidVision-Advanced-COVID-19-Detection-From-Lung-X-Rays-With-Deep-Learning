{
 "cells": [
  {
   "cell_type": "code",
   "execution_count": 9,
   "id": "962f3e61-7d41-49e1-addc-8b93bb92fafb",
   "metadata": {},
   "outputs": [],
   "source": [
    "from tensorflow.keras.preprocessing.image import ImageDataGenerator\n",
    "\n",
    "train_datagen = ImageDataGenerator(rescale=1./255,zoom_range=0.2)\n",
    "val_datagen = ImageDataGenerator(rescale=1./255,zoom_range=0.2)"
   ]
  },
  {
   "cell_type": "code",
   "execution_count": null,
   "id": "ad6a1973-9bc0-426b-935b-8b892a59230e",
   "metadata": {},
   "outputs": [],
   "source": [
    "train_path=r\"C:\\Users\\anjal\\OneDrive\\Desktop\\SmartInternz\\cv_dataset\\train\"\n",
    "test_path=r\"C:\\Users\\anjal\\OneDrive\\Desktop\\SmartInternz\\cv_dataset\\test\"\n",
    "\n",
    "train_data= train_datagen.flow_from_directory(train_path,\n",
    "                                              target_size=(299,299),\n",
    "                                              batch_size=32,\n",
    "                                              class_mode='categorical')\n",
    "test_data = val_datagen.flow_from_directory(test_path,\n",
    "                                            target_size=(299,299),\n",
    "                                            batch_size=32,\n",
    "                                            class_mode='categorical')"
   ]
  },
  {
   "cell_type": "code",
   "execution_count": null,
   "id": "8a1ba75f-29d1-421a-ac91-2654a6d45798",
   "metadata": {},
   "outputs": [],
   "source": [
    "print(train_data.class_indices)\n",
    "print(test_data.class_indices)"
   ]
  },
  {
   "cell_type": "code",
   "execution_count": null,
   "id": "fe26a911-51bc-40dc-b93e-44184e4d9ade",
   "metadata": {},
   "outputs": [],
   "source": [
    "from tensorflow.keras.applications import Xception\n",
    "\n",
    "from tensorflow.keras.layers import Dense,Flatten\n",
    "from tensorflow.keras.models import Model\n",
    "from tensorflow.keras.callbacks import EarlyStopping"
   ]
  },
  {
   "cell_type": "code",
   "execution_count": null,
   "id": "2a59ede2-cab5-4796-be0f-3229abb71051",
   "metadata": {},
   "outputs": [],
   "source": [
    "xception = Xception(input_shape=(299,299,3),include_top=False)\n",
    "\n",
    "for layers in xception.layers:\n",
    "  layers.trainable = False\n",
    "\n",
    "x=Flatten()(xception.output)\n",
    "x=Dense(256,activation='relu')(x)\n",
    "output=Dense(4,activation='softmax')(x)\n",
    "xception=Model(xception.input,output)\n",
    "xception.summary()"
   ]
  },
  {
   "cell_type": "code",
   "execution_count": null,
   "id": "41c317a3-1ceb-48ed-9a5c-c8a599487e9d",
   "metadata": {},
   "outputs": [],
   "source": [
    "xception.compile(optimizer='adam',loss='categorical_crossentropy',metrics=['accuracy'])\n",
    "\n",
    "my_callbacks = [EarlyStopping(patience=6)]\n",
    "xception.fit(train_data,epochs=20,validation_data=test_data , steps_per_epoch=len(train_data)//16,\n",
    "             validation_steps=len(test_data)//16, callbacks=my_callbacks)"
   ]
  },
  {
   "cell_type": "code",
   "execution_count": null,
   "id": "1d2fa7d0-6cc3-4bba-b676-5f4d7a2a5d0f",
   "metadata": {},
   "outputs": [],
   "source": [
    "xception.save(\"xception.h5\")"
   ]
  }
 ],
 "metadata": {
  "kernelspec": {
   "display_name": "Python 3 (ipykernel)",
   "language": "python",
   "name": "python3"
  },
  "language_info": {
   "codemirror_mode": {
    "name": "ipython",
    "version": 3
   },
   "file_extension": ".py",
   "mimetype": "text/x-python",
   "name": "python",
   "nbconvert_exporter": "python",
   "pygments_lexer": "ipython3",
   "version": "3.11.7"
  }
 },
 "nbformat": 4,
 "nbformat_minor": 5
}
