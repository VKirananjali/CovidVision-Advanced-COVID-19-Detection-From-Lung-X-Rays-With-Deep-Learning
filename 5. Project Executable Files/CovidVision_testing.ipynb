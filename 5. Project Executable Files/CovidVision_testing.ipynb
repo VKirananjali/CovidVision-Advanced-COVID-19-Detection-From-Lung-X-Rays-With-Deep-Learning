{
 "cells": [
  {
   "cell_type": "code",
   "execution_count": null,
   "id": "d79423bc-aa1f-4302-b734-9d5a0143834d",
   "metadata": {},
   "outputs": [],
   "source": [
    "import numpy as np\n",
    "\n",
    "from tensorflow.keras.preprocessing.image import load_img, img_to_array\n",
    "from tensorflow.keras.models import load_model\n",
    "from tensorflow.keras.applications.xception import preprocess_input"
   ]
  },
  {
   "cell_type": "code",
   "execution_count": null,
   "id": "8ec1156c-55e4-4e67-aca2-c57364ab2647",
   "metadata": {},
   "outputs": [],
   "source": [
    "model=load_model(\"covidVision_model.h5\")"
   ]
  },
  {
   "cell_type": "code",
   "execution_count": null,
   "id": "b4d5259b-8fc5-4fd7-a7ec-b89d16a97ffe",
   "metadata": {},
   "outputs": [],
   "source": [
    "img_path=\"Viral Pneumonia-334.png\"\n",
    "img = load_img(img_path, target_size=(299, 299))\n",
    "img"
   ]
  },
  {
   "cell_type": "code",
   "execution_count": null,
   "id": "ffb6dd3f-1263-4453-96d0-bdf3acc97d20",
   "metadata": {},
   "outputs": [],
   "source": [
    "img_array = img_to_array(img)\n",
    "img_array = np.expand_dims(img_array, axis=0)\n",
    "img_array = preprocess_input(img_array)"
   ]
  },
  {
   "cell_type": "code",
   "execution_count": null,
   "id": "839bfffc-168b-4715-8bf9-f035cd54032b",
   "metadata": {},
   "outputs": [],
   "source": [
    "pred=np.argmax(model.predict(img_array))\n",
    "pred"
   ]
  },
  {
   "cell_type": "code",
   "execution_count": null,
   "id": "56463563-6408-4bec-8a2c-82aa91be446d",
   "metadata": {},
   "outputs": [],
   "source": [
    "index=['Covid','Lung Opacity','Normal','Viral Pneumonia']\n",
    "output=index[pred]\n",
    "print(\"The person Diagnoised is : \",output)"
   ]
  },
  {
   "cell_type": "code",
   "execution_count": null,
   "id": "c1f218b9-67e4-4f29-bc97-fe3496969229",
   "metadata": {},
   "outputs": [],
   "source": []
  }
 ],
 "metadata": {
  "kernelspec": {
   "display_name": "Python 3 (ipykernel)",
   "language": "python",
   "name": "python3"
  },
  "language_info": {
   "codemirror_mode": {
    "name": "ipython",
    "version": 3
   },
   "file_extension": ".py",
   "mimetype": "text/x-python",
   "name": "python",
   "nbconvert_exporter": "python",
   "pygments_lexer": "ipython3",
   "version": "3.12.1"
  }
 },
 "nbformat": 4,
 "nbformat_minor": 5
}
